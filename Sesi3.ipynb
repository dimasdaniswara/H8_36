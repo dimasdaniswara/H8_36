{
 "cells": [
  {
   "cell_type": "markdown",
   "metadata": {},
   "source": [
    "## Function"
   ]
  },
  {
   "cell_type": "code",
   "execution_count": 1,
   "metadata": {},
   "outputs": [
    {
     "name": "stdout",
     "output_type": "stream",
     "text": [
      "I'm first call to user defined function!\n",
      "Again second call to the same function\n"
     ]
    }
   ],
   "source": [
    "# Function definition is here\n",
    "def printme( str ):\n",
    "   \"This prints a passed string into this function\"\n",
    "   print(str)\n",
    "   return;\n",
    "\n",
    "# Now you can call printme function\n",
    "printme(\"I'm first call to user defined function!\")\n",
    "printme(\"Again second call to the same function\")"
   ]
  },
  {
   "cell_type": "markdown",
   "metadata": {},
   "source": [
    "## Pass by Reference"
   ]
  },
  {
   "cell_type": "code",
   "execution_count": 2,
   "metadata": {},
   "outputs": [
    {
     "name": "stdout",
     "output_type": "stream",
     "text": [
      "Values inside the function:  [10, 20, 30, [1, 2, 3, 4]]\n",
      "Values outside the function:  [10, 20, 30, [1, 2, 3, 4]]\n"
     ]
    }
   ],
   "source": [
    "# Function definition is here\n",
    "def changeme( mylist ):\n",
    "   \"This changes a passed list into this function\"\n",
    "   mylist.append([1,2,3,4]);\n",
    "   print(\"Values inside the function: \", mylist)\n",
    "   return\n",
    "\n",
    "# Now you can call changeme function\n",
    "mylist = [10,20,30];\n",
    "changeme( mylist );\n",
    "print(\"Values outside the function: \", mylist)"
   ]
  },
  {
   "cell_type": "code",
   "execution_count": 3,
   "metadata": {},
   "outputs": [
    {
     "name": "stdout",
     "output_type": "stream",
     "text": [
      "Values inside the function:  [1, 2, 3, 4]\n",
      "Values outside the function:  [10, 20, 30]\n"
     ]
    }
   ],
   "source": [
    "# Function definition is here\n",
    "def changeme( mylist ):\n",
    "   \"This changes a passed list into this function\"\n",
    "   mylist = [1,2,3,4]; # This would assig new reference in mylist\n",
    "   print(\"Values inside the function: \", mylist)\n",
    "   return\n",
    "\n",
    "# Now you can call changeme function\n",
    "mylist = [10,20,30];\n",
    "changeme( mylist );\n",
    "print(\"Values outside the function: \", mylist)"
   ]
  },
  {
   "cell_type": "markdown",
   "metadata": {},
   "source": [
    "## Variable-length arguments"
   ]
  },
  {
   "cell_type": "code",
   "execution_count": 4,
   "metadata": {},
   "outputs": [
    {
     "name": "stdout",
     "output_type": "stream",
     "text": [
      "Output is: \n",
      "10\n",
      "Output is: \n",
      "70\n",
      "60\n",
      "50\n"
     ]
    }
   ],
   "source": [
    "# Function definition is here\n",
    "def printinfo( arg1, *vartuple ):\n",
    "   \"This prints a variable passed arguments\"\n",
    "   print(\"Output is: \")\n",
    "   print(arg1)\n",
    "   for var in vartuple:\n",
    "      print(var)\n",
    "   return;\n",
    "\n",
    "# Now you can call printinfo function\n",
    "printinfo( 10 )\n",
    "printinfo( 70, 60, 50 )"
   ]
  },
  {
   "cell_type": "markdown",
   "metadata": {},
   "source": [
    "## The Anonymous Functions"
   ]
  },
  {
   "cell_type": "code",
   "execution_count": 5,
   "metadata": {},
   "outputs": [
    {
     "name": "stdout",
     "output_type": "stream",
     "text": [
      "Value of total :  30\n",
      "Value of total :  40\n"
     ]
    }
   ],
   "source": [
    "# Function definition is here\n",
    "sum = lambda arg1, arg2: arg1 + arg2;\n",
    "\n",
    "# Now you can call sum as a function\n",
    "print(\"Value of total : \", sum( 10, 20 ))\n",
    "print(\"Value of total : \", sum( 20, 20 ))"
   ]
  },
  {
   "cell_type": "markdown",
   "metadata": {},
   "source": [
    "## Module"
   ]
  },
  {
   "cell_type": "code",
   "execution_count": 6,
   "metadata": {},
   "outputs": [],
   "source": [
    "import mod"
   ]
  },
  {
   "cell_type": "code",
   "execution_count": 7,
   "metadata": {},
   "outputs": [
    {
     "data": {
      "text/plain": [
       "'Hacktiv8 Python for Data Science'"
      ]
     },
     "execution_count": 7,
     "metadata": {},
     "output_type": "execute_result"
    }
   ],
   "source": [
    "mod.s"
   ]
  },
  {
   "cell_type": "code",
   "execution_count": 8,
   "metadata": {},
   "outputs": [
    {
     "data": {
      "text/plain": [
       "[100, 200, 300]"
      ]
     },
     "execution_count": 8,
     "metadata": {},
     "output_type": "execute_result"
    }
   ],
   "source": [
    "mod.a"
   ]
  },
  {
   "cell_type": "code",
   "execution_count": 9,
   "metadata": {},
   "outputs": [],
   "source": [
    "from mod import s,printme"
   ]
  },
  {
   "cell_type": "code",
   "execution_count": 10,
   "metadata": {},
   "outputs": [
    {
     "data": {
      "text/plain": [
       "'Hacktiv8 Python for Data Science'"
      ]
     },
     "execution_count": 10,
     "metadata": {},
     "output_type": "execute_result"
    }
   ],
   "source": [
    "s"
   ]
  },
  {
   "cell_type": "code",
   "execution_count": 11,
   "metadata": {},
   "outputs": [
    {
     "name": "stdout",
     "output_type": "stream",
     "text": [
      "From a Function\n"
     ]
    }
   ],
   "source": [
    "printme()"
   ]
  },
  {
   "cell_type": "code",
   "execution_count": 12,
   "metadata": {},
   "outputs": [
    {
     "ename": "TypeError",
     "evalue": "printme() takes 0 positional arguments but 1 was given",
     "output_type": "error",
     "traceback": [
      "\u001b[1;31m---------------------------------------------------------------------------\u001b[0m",
      "\u001b[1;31mTypeError\u001b[0m                                 Traceback (most recent call last)",
      "\u001b[1;32m<ipython-input-12-b28466b56d2d>\u001b[0m in \u001b[0;36m<module>\u001b[1;34m\u001b[0m\n\u001b[1;32m----> 1\u001b[1;33m \u001b[0mprintme\u001b[0m\u001b[1;33m(\u001b[0m\u001b[1;34m\"hello\"\u001b[0m\u001b[1;33m)\u001b[0m\u001b[1;33m\u001b[0m\u001b[1;33m\u001b[0m\u001b[0m\n\u001b[0m",
      "\u001b[1;31mTypeError\u001b[0m: printme() takes 0 positional arguments but 1 was given"
     ]
    }
   ],
   "source": [
    "printme(\"hello\")"
   ]
  },
  {
   "cell_type": "code",
   "execution_count": 13,
   "metadata": {},
   "outputs": [],
   "source": [
    "from mod import *"
   ]
  },
  {
   "cell_type": "code",
   "execution_count": 14,
   "metadata": {},
   "outputs": [],
   "source": [
    "from mod import s as stringNama"
   ]
  },
  {
   "cell_type": "code",
   "execution_count": 15,
   "metadata": {},
   "outputs": [
    {
     "data": {
      "text/plain": [
       "'Hacktiv8 Python for Data Science'"
      ]
     },
     "execution_count": 15,
     "metadata": {},
     "output_type": "execute_result"
    }
   ],
   "source": [
    "stringNama"
   ]
  },
  {
   "cell_type": "markdown",
   "metadata": {},
   "source": [
    "## Package"
   ]
  },
  {
   "cell_type": "code",
   "execution_count": 17,
   "metadata": {},
   "outputs": [],
   "source": [
    "import pkg.mod1,pkg.mod2"
   ]
  },
  {
   "cell_type": "code",
   "execution_count": 19,
   "metadata": {},
   "outputs": [
    {
     "name": "stdout",
     "output_type": "stream",
     "text": [
      "Dari Module 1\n"
     ]
    }
   ],
   "source": [
    "pkg.mod1.mod1()"
   ]
  },
  {
   "cell_type": "code",
   "execution_count": 20,
   "metadata": {},
   "outputs": [
    {
     "name": "stdout",
     "output_type": "stream",
     "text": [
      "Dari Module 2\n"
     ]
    }
   ],
   "source": [
    "pkg.mod2.mod2()"
   ]
  },
  {
   "cell_type": "markdown",
   "metadata": {},
   "source": [
    "## PIP"
   ]
  },
  {
   "cell_type": "code",
   "execution_count": 21,
   "metadata": {},
   "outputs": [
    {
     "name": "stdout",
     "output_type": "stream",
     "text": [
      "pip 19.2.3 from C:\\Users\\Dimas\\Anaconda3\\lib\\site-packages\\pip (python 3.7)\n",
      "\n"
     ]
    }
   ],
   "source": [
    "!pip --version"
   ]
  },
  {
   "cell_type": "code",
   "execution_count": 22,
   "metadata": {},
   "outputs": [
    {
     "name": "stdout",
     "output_type": "stream",
     "text": [
      "Collecting folium\n",
      "  Downloading https://files.pythonhosted.org/packages/a4/f0/44e69d50519880287cc41e7c8a6acc58daa9a9acf5f6afc52bcc70f69a6d/folium-0.11.0-py2.py3-none-any.whl (93kB)\n",
      "Requirement already satisfied: jinja2>=2.9 in c:\\users\\dimas\\anaconda3\\lib\\site-packages (from folium) (2.10.3)\n",
      "Requirement already satisfied: numpy in c:\\users\\dimas\\anaconda3\\lib\\site-packages (from folium) (1.16.5)\n",
      "Collecting branca>=0.3.0 (from folium)\n",
      "  Downloading https://files.pythonhosted.org/packages/13/fb/9eacc24ba3216510c6b59a4ea1cd53d87f25ba76237d7f4393abeaf4c94e/branca-0.4.1-py3-none-any.whl\n",
      "Requirement already satisfied: requests in c:\\users\\dimas\\anaconda3\\lib\\site-packages (from folium) (2.22.0)\n",
      "Requirement already satisfied: MarkupSafe>=0.23 in c:\\users\\dimas\\anaconda3\\lib\\site-packages (from jinja2>=2.9->folium) (1.1.1)\n",
      "Requirement already satisfied: idna<2.9,>=2.5 in c:\\users\\dimas\\anaconda3\\lib\\site-packages (from requests->folium) (2.8)\n",
      "Requirement already satisfied: certifi>=2017.4.17 in c:\\users\\dimas\\anaconda3\\lib\\site-packages (from requests->folium) (2019.9.11)\n",
      "Requirement already satisfied: urllib3!=1.25.0,!=1.25.1,<1.26,>=1.21.1 in c:\\users\\dimas\\anaconda3\\lib\\site-packages (from requests->folium) (1.24.2)\n",
      "Requirement already satisfied: chardet<3.1.0,>=3.0.2 in c:\\users\\dimas\\anaconda3\\lib\\site-packages (from requests->folium) (3.0.4)\n",
      "Installing collected packages: branca, folium\n",
      "Successfully installed branca-0.4.1 folium-0.11.0\n"
     ]
    }
   ],
   "source": [
    "!pip install folium"
   ]
  },
  {
   "cell_type": "code",
   "execution_count": 23,
   "metadata": {},
   "outputs": [],
   "source": [
    "import requests"
   ]
  },
  {
   "cell_type": "code",
   "execution_count": 24,
   "metadata": {},
   "outputs": [
    {
     "name": "stdout",
     "output_type": "stream",
     "text": [
      "Package                            Version  \n",
      "---------------------------------- ---------\n",
      "alabaster                          0.7.12   \n",
      "anaconda-client                    1.7.2    \n",
      "anaconda-navigator                 1.9.7    \n",
      "anaconda-project                   0.8.3    \n",
      "asn1crypto                         1.0.1    \n",
      "astroid                            2.3.1    \n",
      "astropy                            3.2.1    \n",
      "atomicwrites                       1.3.0    \n",
      "attrs                              19.2.0   \n",
      "Babel                              2.7.0    \n",
      "backcall                           0.1.0    \n",
      "backports.functools-lru-cache      1.5      \n",
      "backports.os                       0.1.1    \n",
      "backports.shutil-get-terminal-size 1.0.0    \n",
      "backports.tempfile                 1.0      \n",
      "backports.weakref                  1.0.post1\n",
      "beautifulsoup4                     4.8.0    \n",
      "bitarray                           1.0.1    \n",
      "bkcharts                           0.2      \n",
      "bleach                             3.1.0    \n",
      "bokeh                              1.3.4    \n",
      "boto                               2.49.0   \n",
      "Bottleneck                         1.2.1    \n",
      "branca                             0.4.1    \n",
      "certifi                            2019.9.11\n",
      "cffi                               1.12.3   \n",
      "chardet                            3.0.4    \n",
      "Click                              7.0      \n",
      "cloudpickle                        1.2.2    \n",
      "clyent                             1.2.2    \n",
      "colorama                           0.4.1    \n",
      "comtypes                           1.1.7    \n",
      "conda                              4.7.12   \n",
      "conda-build                        3.18.9   \n",
      "conda-package-handling             1.6.0    \n",
      "conda-verify                       3.4.2    \n",
      "contextlib2                        0.6.0    \n",
      "cryptography                       2.7      \n",
      "cycler                             0.10.0   \n",
      "Cython                             0.29.13  \n",
      "cytoolz                            0.10.0   \n",
      "dask                               2.5.2    \n",
      "decorator                          4.4.0    \n",
      "defusedxml                         0.6.0    \n",
      "distributed                        2.5.2    \n",
      "docutils                           0.15.2   \n",
      "entrypoints                        0.3      \n",
      "et-xmlfile                         1.0.1    \n",
      "fastcache                          1.1.0    \n",
      "filelock                           3.0.12   \n",
      "Flask                              1.1.1    \n",
      "folium                             0.11.0   \n",
      "fsspec                             0.5.2    \n",
      "future                             0.17.1   \n",
      "gevent                             1.4.0    \n",
      "glob2                              0.7      \n",
      "greenlet                           0.4.15   \n",
      "h5py                               2.9.0    \n",
      "HeapDict                           1.0.1    \n",
      "html5lib                           1.0.1    \n",
      "idna                               2.8      \n",
      "imageio                            2.6.0    \n",
      "imagesize                          1.1.0    \n",
      "importlib-metadata                 0.23     \n",
      "ipykernel                          5.1.2    \n",
      "ipython                            7.8.0    \n",
      "ipython-genutils                   0.2.0    \n",
      "ipywidgets                         7.5.1    \n",
      "isort                              4.3.21   \n",
      "itsdangerous                       1.1.0    \n",
      "jdcal                              1.4.1    \n",
      "jedi                               0.15.1   \n",
      "Jinja2                             2.10.3   \n",
      "joblib                             0.13.2   \n",
      "json5                              0.8.5    \n",
      "jsonschema                         3.0.2    \n",
      "jupyter                            1.0.0    \n",
      "jupyter-client                     5.3.3    \n",
      "jupyter-console                    6.0.0    \n",
      "jupyter-core                       4.5.0    \n",
      "jupyterlab                         1.1.4    \n",
      "jupyterlab-server                  1.0.6    \n",
      "keyring                            18.0.0   \n",
      "kiwisolver                         1.1.0    \n",
      "lazy-object-proxy                  1.4.2    \n",
      "libarchive-c                       2.8      \n",
      "llvmlite                           0.29.0   \n",
      "locket                             0.2.0    \n",
      "lxml                               4.4.1    \n",
      "MarkupSafe                         1.1.1    \n",
      "matplotlib                         3.1.1    \n",
      "mccabe                             0.6.1    \n",
      "menuinst                           1.4.16   \n",
      "mistune                            0.8.4    \n",
      "mkl-fft                            1.0.14   \n",
      "mkl-random                         1.1.0    \n",
      "mkl-service                        2.3.0    \n",
      "mock                               3.0.5    \n",
      "more-itertools                     7.2.0    \n",
      "mpmath                             1.1.0    \n",
      "msgpack                            0.6.1    \n",
      "multipledispatch                   0.6.0    \n",
      "navigator-updater                  0.2.1    \n",
      "nbconvert                          5.6.0    \n",
      "nbformat                           4.4.0    \n",
      "networkx                           2.3      \n",
      "nltk                               3.4.5    \n",
      "nose                               1.3.7    \n",
      "notebook                           6.0.1    \n",
      "numba                              0.45.1   \n",
      "numexpr                            2.7.0    \n",
      "numpy                              1.16.5   \n",
      "numpydoc                           0.9.1    \n",
      "olefile                            0.46     \n",
      "openpyxl                           3.0.0    \n",
      "packaging                          19.2     \n",
      "pandas                             0.25.1   \n",
      "pandocfilters                      1.4.2    \n",
      "parso                              0.5.1    \n",
      "partd                              1.0.0    \n",
      "path.py                            12.0.1   \n",
      "pathlib2                           2.3.5    \n",
      "patsy                              0.5.1    \n",
      "pep8                               1.7.1    \n",
      "pickleshare                        0.7.5    \n",
      "Pillow                             6.2.0    \n",
      "pip                                19.2.3   \n",
      "pkginfo                            1.5.0.1  \n",
      "pluggy                             0.13.0   \n",
      "ply                                3.11     \n",
      "prometheus-client                  0.7.1    \n",
      "prompt-toolkit                     2.0.10   \n",
      "psutil                             5.6.3    \n",
      "py                                 1.8.0    \n",
      "pycodestyle                        2.5.0    \n",
      "pycosat                            0.6.3    \n",
      "pycparser                          2.19     \n",
      "pycrypto                           2.6.1    \n",
      "pycurl                             7.43.0.3 \n",
      "pyflakes                           2.1.1    \n",
      "Pygments                           2.4.2    \n",
      "pylint                             2.4.2    \n",
      "pyodbc                             4.0.27   \n",
      "pyOpenSSL                          19.0.0   \n",
      "pyparsing                          2.4.2    \n",
      "pyreadline                         2.1      \n",
      "pyrsistent                         0.15.4   \n",
      "PySocks                            1.7.1    \n",
      "pytest                             5.2.1    \n",
      "pytest-arraydiff                   0.3      \n",
      "pytest-astropy                     0.5.0    \n",
      "pytest-doctestplus                 0.4.0    \n",
      "pytest-openfiles                   0.4.0    \n",
      "pytest-remotedata                  0.3.2    \n",
      "python-dateutil                    2.8.0    \n",
      "pytz                               2019.3   \n",
      "PyWavelets                         1.0.3    \n",
      "pywin32                            223      \n",
      "pywinpty                           0.5.5    \n",
      "PyYAML                             5.1.2    \n",
      "pyzmq                              18.1.0   \n",
      "QtAwesome                          0.6.0    \n",
      "qtconsole                          4.5.5    \n",
      "QtPy                               1.9.0    \n",
      "requests                           2.22.0   \n",
      "rope                               0.14.0   \n",
      "ruamel-yaml                        0.15.46  \n",
      "scikit-image                       0.15.0   \n",
      "scikit-learn                       0.21.3   \n",
      "scipy                              1.3.1    \n",
      "seaborn                            0.9.0    \n",
      "Send2Trash                         1.5.0    \n",
      "setuptools                         41.4.0   \n",
      "simplegeneric                      0.8.1    \n",
      "singledispatch                     3.4.0.3  \n",
      "six                                1.12.0   \n",
      "snowballstemmer                    2.0.0    \n",
      "sortedcollections                  1.1.2    \n",
      "sortedcontainers                   2.1.0    \n",
      "soupsieve                          1.9.3    \n",
      "Sphinx                             2.2.0    \n",
      "sphinxcontrib-applehelp            1.0.1    \n",
      "sphinxcontrib-devhelp              1.0.1    \n",
      "sphinxcontrib-htmlhelp             1.0.2    \n",
      "sphinxcontrib-jsmath               1.0.1    \n",
      "sphinxcontrib-qthelp               1.0.2    \n",
      "sphinxcontrib-serializinghtml      1.1.3    \n",
      "sphinxcontrib-websupport           1.1.2    \n",
      "spyder                             3.3.6    \n",
      "spyder-kernels                     0.5.2    \n",
      "SQLAlchemy                         1.3.9    \n",
      "statsmodels                        0.10.1   \n",
      "sympy                              1.4      \n",
      "tables                             3.5.2    \n",
      "tblib                              1.4.0    \n",
      "terminado                          0.8.2    \n",
      "testpath                           0.4.2    \n",
      "toolz                              0.10.0   \n",
      "tornado                            6.0.3    \n",
      "tqdm                               4.36.1   \n",
      "traitlets                          4.3.3    \n",
      "unicodecsv                         0.14.1   \n",
      "urllib3                            1.24.2   \n",
      "wcwidth                            0.1.7    \n",
      "webencodings                       0.5.1    \n",
      "Werkzeug                           0.16.0   \n",
      "wheel                              0.33.6   \n",
      "widgetsnbextension                 3.5.1    \n",
      "win-inet-pton                      1.1.0    \n",
      "win-unicode-console                0.5      \n",
      "wincertstore                       0.2      \n",
      "wrapt                              1.11.2   \n",
      "xlrd                               1.2.0    \n",
      "XlsxWriter                         1.2.1    \n",
      "xlwings                            0.15.10  \n",
      "xlwt                               1.3.0    \n",
      "zict                               1.0.0    \n",
      "zipp                               0.6.0    \n"
     ]
    }
   ],
   "source": [
    "!pip list"
   ]
  },
  {
   "cell_type": "code",
   "execution_count": 25,
   "metadata": {},
   "outputs": [
    {
     "name": "stdout",
     "output_type": "stream",
     "text": [
      "Name: folium\n",
      "Version: 0.11.0\n",
      "Summary: Make beautiful maps with Leaflet.js & Python\n",
      "Home-page: https://github.com/python-visualization/folium\n",
      "Author: Rob Story\n",
      "Author-email: wrobstory@gmail.com\n",
      "License: MIT\n",
      "Location: c:\\users\\dimas\\anaconda3\\lib\\site-packages\n",
      "Requires: requests, branca, numpy, jinja2\n",
      "Required-by: \n"
     ]
    }
   ],
   "source": [
    "!pip show folium"
   ]
  },
  {
   "cell_type": "code",
   "execution_count": 26,
   "metadata": {},
   "outputs": [],
   "source": [
    "!pip freeze > requirements.txt"
   ]
  },
  {
   "cell_type": "code",
   "execution_count": 27,
   "metadata": {},
   "outputs": [
    {
     "name": "stdout",
     "output_type": "stream",
     "text": [
      "openerp-web (7.0.406)                            - Web\n",
      "ebs-web (0.0.1)                                  - A web framwork to create web application\n",
      "dragonfly-web (1.0)                              - A web framework.\n",
      "web-fragments (0.3.2)                            - Web fragments\n",
      "web-crawler (0.0.4)                              - Web crawler\n",
      "devpi-web (4.0.4)                                - devpi-web: a web view for devpi-server\n",
      "EarthReader-Web (0.3.0)                          - Earth Reader for Web\n",
      "pdfebc-web (0.1.2)                               - Web interface for pdfebc.\n",
      "victims-web (2.2.1)                              - Victims Web Service\n",
      "kegmeter-web (0.99.5)                            - Kegmeter web server\n",
      "autotweet-web (0.1.0)                            - web instance for autotweet\n",
      "testwizard.commands-web (3.1.19)                 - Testwizard Web commands\n",
      "grapher-web (1.1.3)                              - Grapher Web UI\n",
      "voltron-web (0.1.1)                              - Voltron web interface\n",
      "circus-web (1.0.0)                               - Circus Web Dashboard\n",
      "web-extractor (0.1.3)                            - WEB Content Extractor\n",
      "wc-web (1.0.0)                                   - WidgetCo web: This is a fake web module used to teach namespace packages .\n",
      "larpix-web (0.1.0rc2)                            - LArPix DAQ Web Interface\n",
      "uvpool-web (0.2.0)                               - A sanic based web framework\n",
      "six-web (1.0.1)                                  - Micro python web framework\n",
      "cosmicpi-web (0.2.1)                             - Web frontend for Cosmic Pi\n",
      "mailman-web (0.0.1)                              - Mailman 3 Web interface.\n",
      "web-wrapper (0.4.2)                              - Web wrapper for Selenium/requests\n",
      "web-title (0.1)                                  - Find web site title\n",
      "enaml-web (0.9.1)                                - Web component toolkit for Enaml\n",
      "volcano-web (1.5.5)                              - Web server satellite for Volcano\n",
      "reahl-web (4.0.5)                                - The core Reahl web framework\n",
      "PyForms-Web (4.2.0)                              - Pyforms Web is Python 3 framework to create single-page web applications.\n",
      "Web-Templates (0.0.0a0.post3)                    - Standardized templates for Python's web frameworks\n",
      "web-playground (0.0.1)                           - Demo web application for testing purposes\n",
      "polar-web (0.0.2)                                - Python wrapper for Polar Web API.\n",
      "web-mage (0.2.0)                                 - Small package that optimizes images for the web.\n",
      "sqlite-web (0.3.6)                               - Web-based SQLite database browser.\n",
      "cppcloud-web (1.0.6)                             - CppCloud python3 Web and RestApi System\n",
      "mordred-web (0.3.4)                              - molecular descriptor calculator web UI\n",
      "dnspod-web (3.0.0)                               - DNSPod API Python Web Example\n",
      "rsrc-web (0.0.3)                                 - `rsrc` plugin for working with web resources.\n",
      "web-trawler (0.2.0)                              - Trawl web pages for files to download\n",
      "Hurricane-web (0.1a1)                            - a simple web framework based on Tornado.\n",
      "sidefx-web (0.6.0)                               - Simple tool for using the SideFX Web API\n",
      "pyqmix-web (2019.1)                              - Remote-control interface and web-app for pyqmix.\n",
      "inhouse-web (0.0.4)                              - Web based time recording and management application\n",
      "rtsf-web (1.2.3)                                 - only for web ui test, base on rtsf\n",
      "web-poet (0.0.1)                                 - Scrapinghub's Page Object pattern for web scraping\n",
      "whirlwind-web (0.9.0)                            - Wrapper around the tornado web server library\n",
      "faker-web (0.3.1)                                - Web-related Provider for the Faker Python package.\n",
      "web-pdb (1.5.3)                                  - Web interface for Python's built-in PDB debugger\n",
      "duo-web (1.3.0)                                  - Duo Web SDK for two-factor authentication\n",
      "trips-web (1.0.11)                               - Command-line interface for the TRIPS web parser\n",
      "web-mother (0.2.7)                               - All like resource manage business can from web-mother. Web-mother include member manage, organization manage, and catalog manage. Especially web-mother support authorization management.\n",
      "click-web (0.7.1)                                - Serve click scripts over the web with minimal effort.\n",
      "toga-web (0.0.0)                                 - A common backend for the Toga widget toolkit on web platforms.\n",
      "web-downloader (0.0.8)                           - A Python package using Selenium to download web content\n",
      "web-office (1.0.0)                               - View office documents in browser using web services.\n",
      "ws-web-aiohttp (0.1b19)                          - web server for web-sheets project\n",
      "typhoon-web (1.0.2)                              - A wrapper around the Tornado web framework that supports logs with traceId.\n",
      "statick-web (0.0.2)                              - Statick analysis plugins for Web (css, html, js) files.\n",
      "opensubmit-web (0.7.17)                          - A web application for managing student assignment solutions in a university environment.\n",
      "openerp-web-calendar (7.0.406)                   - Web Calendar\n",
      "openerp-web-shortcuts (7.0.406)                  - Web Shortcuts\n",
      "openerp-web-gantt (7.0.406)                      - Web Gantt\n",
      "dsmc-web (0.0.1)                                 - [Dont Steal My Code : Console & web code encrypter & decrypter]\n",
      "tiny-web (0.0.4)                                 - WSGI-compatible framework to learn how to create tiny web applications\n",
      "fooster-web (0.3rc9)                             - a small, process-pooled web server utilizing the built-in Python socketserver\n",
      "evasion-web (1.1.1)                              - Pylons based web application framework on which the director admin is based.\n",
      "web-walker (3.1.5)                               - your can crawl web pages with litte settings. based on scrapy. \n",
      "OpenFisca-Web-API (8.2.0)                        - Web API for OpenFisca\n",
      "pg-chameleon-web (0.1.dev0)                      - Web interface for pg_chameleon\n",
      "jupyter-web-report (0.1.3)                       - jupyter web report\n",
      "bayrell-runtime-web (0.0.1)                      - Bayrell Runtime Web\n",
      "Web-Scraping-Utility (1.0.0)                     - Web Scraping Utility\n",
      "openerp-web-diagram (7.0.406)                    - OpenERP Web Diagram\n",
      "openerp-web-api (7.0.406)                        - OpenERP Web API\n",
      "django-web-app (0.0.8)                           - a django web app\n",
      "emf-web-crawler (0.1.1)                          - Basic web crawler\n",
      "web-terminal (0.2.1)                             - Web_Terminal is a server that gives an easy web-based interface to a terminal window, with plenty of nice features\n",
      "django-web-utils (0.4.3)                         - Django helpers for working with the web.\n",
      "web-rich-object (0.3.1)                          - Web rich object handler\n",
      "amis-web-requester (0.4)                         - A web requester utility package\n",
      "extensiveautomation-plugin-web (1.0.1)           - WEB plugin for extensiveautomation server\n",
      "eilat-web-browser (1.5.5)                        - QtWebKit based web browser\n",
      "joox-web-crawler (0.0.9)                         - a simple joox web crawler\n",
      "web-framework (100.99.99)                        - A package for analysing download counts on random packages, please remove if you've mistakenly installed this package: web-framework\n",
      "web-lib (100.99.99)                              - A package for analysing download counts on random packages, please remove if you've mistakenly installed this package: web-lib\n",
      "web-cli (100.99.99)                              - A package for analysing download counts on random packages, please remove if you've mistakenly installed this package: web-cli\n",
      "zusha-web-app (0.0.1)                            - Web server for Zusha mobile app.\n",
      "mongo-mail-web (0.1.1)                           - Web UI for Mongo Mail Server\n",
      "django-passaporte-web (1.2.8)                    - Django client app for Passaporte Web.\n",
      "trytond-web-user (5.6.0)                         - Tryton module to manage Web users\n",
      "web-payments-paypal (1.0.2)                      - Paypal plugin for web-payments-connector\n",
      "web-payments-paydirekt (1.0.2)                   - Paydirekt plugin for web-payments-connector\n",
      "python-passaporte-web (0.2.4)                    - Python client app for Passaporte Web.\n",
      "django-web-exceptions (0.1.4)                    - Throwing web exceptions like in AioHTTP\n",
      "web-payments-connector (3.0.1)                   - Universal payment handling for Web Frameworks\n",
      "odoo12-addon-web-refresher (12.0.1.0.0.99.dev3)  - Web Refresher\n",
      "odoo8-addon-web-shortcuts (8.0.1.0.0.99.dev24)   - Web Shortcuts\n",
      "odoo10-addon-web-openeducat (10.0.3.0.0)         - Web OpenEduCat\n",
      "odoo11-addon-web-refresher (11.0.1.0.0.99.dev6)  - Web Refresher\n",
      "web-searcher-cli (0.1.1)                         - consosle web search from google or yandex\n",
      "fish-bundles-web (0.1.8)                         - fish-bundles-web is the website for fish-bundles\n"
     ]
    }
   ],
   "source": [
    "!pip search web"
   ]
  },
  {
   "cell_type": "code",
   "execution_count": null,
   "metadata": {},
   "outputs": [],
   "source": []
  }
 ],
 "metadata": {
  "kernelspec": {
   "display_name": "Python 3",
   "language": "python",
   "name": "python3"
  },
  "language_info": {
   "codemirror_mode": {
    "name": "ipython",
    "version": 3
   },
   "file_extension": ".py",
   "mimetype": "text/x-python",
   "name": "python",
   "nbconvert_exporter": "python",
   "pygments_lexer": "ipython3",
   "version": "3.7.4"
  }
 },
 "nbformat": 4,
 "nbformat_minor": 4
}
